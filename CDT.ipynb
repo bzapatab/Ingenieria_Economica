{
  "nbformat": 4,
  "nbformat_minor": 0,
  "metadata": {
    "colab": {
      "name": "CDT.ipynb",
      "provenance": []
    },
    "kernelspec": {
      "name": "python3",
      "display_name": "Python 3"
    },
    "language_info": {
      "name": "python"
    }
  },
  "cells": [
    {
      "cell_type": "markdown",
      "metadata": {
        "id": "H7TBXxkpJuSt"
      },
      "source": [
        "# Ley financiera de capitalización\n",
        "---"
      ]
    },
    {
      "cell_type": "markdown",
      "metadata": {
        "id": "36slGeC-J3Pa"
      },
      "source": [
        "$V_{NPR}(F_0,TEP)>F_0$"
      ]
    },
    {
      "cell_type": "markdown",
      "metadata": {
        "id": "FCKekYFUJ3a8"
      },
      "source": [
        "# Flujos discretos\n",
        "---"
      ]
    },
    {
      "cell_type": "markdown",
      "metadata": {
        "id": "apsrrk4YJ7kR"
      },
      "source": [
        "$NPR \\in N$\n",
        "\n",
        "$NPR = \\frac{NDT}{NDI}$"
      ]
    },
    {
      "cell_type": "markdown",
      "metadata": {
        "id": "heVfm361J7ue"
      },
      "source": [
        "# Interés simple\n",
        "---"
      ]
    },
    {
      "cell_type": "markdown",
      "metadata": {
        "id": "b0Iaf9RVKCv7"
      },
      "source": [
        "$V_{NPR}(F_0,TEP) = F_0 * (1 + NPR * TEP)$"
      ]
    },
    {
      "cell_type": "markdown",
      "metadata": {
        "id": "C7DVFA14KC8i"
      },
      "source": [
        "# Tasa de interés equivalente\n",
        "---"
      ]
    },
    {
      "cell_type": "markdown",
      "metadata": {
        "id": "Zb3-VORMKFsO"
      },
      "source": [
        "$(1+TEA)=(1+TEP)^{NPC}$\n",
        "\n",
        "$TEP=\\frac{TNA}{NPC}$\n",
        "\n",
        "$NPC = \\frac{NDB}{NDI}$"
      ]
    },
    {
      "cell_type": "markdown",
      "metadata": {
        "id": "w0W2UPG2KFw9"
      },
      "source": [
        "# Después de impuestos\n"
      ]
    },
    {
      "cell_type": "markdown",
      "metadata": {
        "id": "XsO2XX54OrxT"
      },
      "source": [
        "$TDI = TEP * (1-TET)$"
      ]
    },
    {
      "cell_type": "markdown",
      "metadata": {
        "id": "n9UZMvTyKOIg"
      },
      "source": [
        "# Ejemplo\n",
        "---"
      ]
    },
    {
      "cell_type": "code",
      "metadata": {
        "colab": {
          "base_uri": "https://localhost:8080/"
        },
        "id": "jwKn7TpDKQ_1",
        "outputId": "93a06d2d-8655-4498-9a10-70116acbfc9e"
      },
      "source": [
        "F_0 = 100\n",
        "TEA = 0.035\n",
        "NDT = 360\n",
        "NDI = 360\n",
        "NDB = 360\n",
        "TET = 0.04\n",
        "\n",
        "NPR = NDT / NDI\n",
        "NPC = NDB / NDI\n",
        "TEP = (1+TEA)**(1/NPC) - 1\n",
        "\n",
        "V_N = F_0 * (1 + NPR * TEP*(1-TET))\n",
        "V_N"
      ],
      "execution_count": 8,
      "outputs": [
        {
          "output_type": "execute_result",
          "data": {
            "text/plain": [
              "103.35999999999999"
            ]
          },
          "metadata": {},
          "execution_count": 8
        }
      ]
    }
  ]
}